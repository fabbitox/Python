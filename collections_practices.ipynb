{
 "cells": [
  {
   "attachments": {},
   "cell_type": "markdown",
   "metadata": {},
   "source": [
    "1부터 45까지의 수 중에서 6개를 선택하여 로또 번호를 만드는 프로그램"
   ]
  },
  {
   "cell_type": "code",
   "execution_count": null,
   "metadata": {},
   "outputs": [],
   "source": [
    "from random import randint\n",
    "\n",
    "pick = set()\n",
    "while len(pick) < 6:\n",
    "    n = randint(1, 45)\n",
    "    pick.add(n)\n",
    "print(sorted(pick))"
   ]
  },
  {
   "attachments": {},
   "cell_type": "markdown",
   "metadata": {},
   "source": [
    "학생들의 성적을 딕셔너리로 저장하고, 성적 평균을 계산하는 프로그램을 작성해 보세요."
   ]
  },
  {
   "cell_type": "code",
   "execution_count": null,
   "metadata": {},
   "outputs": [],
   "source": [
    "students = {\n",
    "    \"Alice\": [85, 90, 95, 93, 98],\n",
    "    \"Bob\": [75, 80, 85],\n",
    "    \"Charlie\": [95, 95, 95, 90],\n",
    "    \"Drake\": [78, 85, 92, 89]\n",
    "}\n",
    "print(\"Average grades\")\n",
    "for stud in students.keys():\n",
    "    print(f\"{stud}: {sum(students[stud]) / len(students[stud]):.2f}\")"
   ]
  },
  {
   "attachments": {},
   "cell_type": "markdown",
   "metadata": {},
   "source": [
    "숫자들이 들어 있는 리스트에서 중복된 숫자를 제거하고, 남은 숫자들의 합을 계산하는 프로그램을 작성해 보세요."
   ]
  },
  {
   "cell_type": "code",
   "execution_count": null,
   "metadata": {},
   "outputs": [],
   "source": [
    "numlist = [1, 2, 2, 3, 3, 3, 4, 4, 5]\n",
    "unique = set(numlist)\n",
    "print(f\"Sum of unique numbers: {sum(unique)}\")"
   ]
  },
  {
   "attachments": {},
   "cell_type": "markdown",
   "metadata": {},
   "source": [
    "주어진 문자열에서 각 알파벳의 빈도 수를 구하는 프로그램을 작성하시오."
   ]
  },
  {
   "cell_type": "code",
   "execution_count": null,
   "metadata": {},
   "outputs": [],
   "source": [
    "text = \"Hello, world!\"\n",
    "countdict = {}\n",
    "for char in text:\n",
    "    if char in countdict:\n",
    "        countdict[char] += 1\n",
    "    else:\n",
    "        countdict[char] = 1\n",
    "print(countdict)"
   ]
  },
  {
   "attachments": {},
   "cell_type": "markdown",
   "metadata": {},
   "source": [
    "두 개의 리스트가 주어졌을 때, 두 리스트에 공통으로 포함된 요소를 모두 담은 리스트를 반환하는 프로그램을 작성하시오."
   ]
  },
  {
   "cell_type": "code",
   "execution_count": null,
   "metadata": {},
   "outputs": [],
   "source": [
    "from random import randint\n",
    "list1 = [randint(1, 20) for _ in range(randint(5, 10))]\n",
    "list2 = [randint(1, 20) for _ in range(randint(6, 15))]\n",
    "print(f\"리스트 1: {list1}\")\n",
    "print(f\"리스트 2: {list2}\")\n",
    "print(f\"공통으로 포함된 요소: {set(list1) & set(list2)}\")"
   ]
  }
 ],
 "metadata": {
  "kernelspec": {
   "display_name": "Python 3",
   "language": "python",
   "name": "python3"
  },
  "language_info": {
   "codemirror_mode": {
    "name": "ipython",
    "version": 3
   },
   "file_extension": ".py",
   "mimetype": "text/x-python",
   "name": "python",
   "nbconvert_exporter": "python",
   "pygments_lexer": "ipython3",
   "version": "3.10.9"
  },
  "orig_nbformat": 4
 },
 "nbformat": 4,
 "nbformat_minor": 2
}
