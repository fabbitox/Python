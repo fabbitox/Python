{
 "cells": [
  {
   "attachments": {},
   "cell_type": "markdown",
   "metadata": {},
   "source": [
    "# 주사위 게임\n",
    "두 주사위를 던졌을 때, 합이 7이 되면 이기는 간단한 주사위 게임을 만들어 보세요."
   ]
  },
  {
   "cell_type": "code",
   "execution_count": null,
   "metadata": {},
   "outputs": [],
   "source": [
    "import random\n",
    "if random.randint(1, 6) + random.randint(1, 6) == 7:\n",
    "    print(\"이겼습니다\")\n",
    "else:\n",
    "    print(\"졌습니다\")"
   ]
  },
  {
   "attachments": {},
   "cell_type": "markdown",
   "metadata": {},
   "source": [
    "# 숫자 맞히기 게임\n",
    "사용자가 1 이상 100 이하의 수를 입력하여 맞히는 프로그램.<br>\n",
    "제한 횟수: 5회"
   ]
  },
  {
   "cell_type": "code",
   "execution_count": null,
   "metadata": {},
   "outputs": [],
   "source": [
    "import random\n",
    "randnum = random.randint(1, 100)\n",
    "result = False\n",
    "for i in range(5):\n",
    "    num = int(input(\"맞혀보세요(1 <= x <= 100): \"))\n",
    "    if num == randnum:\n",
    "        print(\"이겼습니다\")\n",
    "        result = True\n",
    "        break\n",
    "    elif num < randnum:\n",
    "        print(f\"{num} 보다 더 큽니다\")\n",
    "    else:\n",
    "        print(f\"{num} 보다 더 작습니다\")\n",
    "if not result:\n",
    "    print(\"졌습니다\")\n",
    "    print(f\"숫자는 {randnum}이었습니다\")"
   ]
  },
  {
   "attachments": {},
   "cell_type": "markdown",
   "metadata": {},
   "source": [
    "# 동전 게임\n",
    "플레이어가 처음에 $50을 가지고 있다.<br>\n",
    "동전을 한 번 던져서 앞면(1) 또는 뒷면(2)이 나온다.<br>\n",
    "플레이어의 예상이 맞으면 $9을 따고 틀리면 $10을 잃는다.<br>\n",
    "플레이어가 돈을 모두 잃거나 $100이 되면 게임이 종료된다."
   ]
  },
  {
   "cell_type": "code",
   "execution_count": null,
   "metadata": {},
   "outputs": [],
   "source": [
    "from random import randint\n",
    "money = 50\n",
    "while money > 0 and money < 100:\n",
    "    guess = int(input(\"앞면(1), 뒷면(2): \"))\n",
    "    if guess == randint(1, 2):\n",
    "        print(\"+ $9\")\n",
    "        money += 9\n",
    "    else:\n",
    "        print(\"- $10\")\n",
    "        money -= 10"
   ]
  }
 ],
 "metadata": {
  "kernelspec": {
   "display_name": "Python 3",
   "language": "python",
   "name": "python3"
  },
  "language_info": {
   "codemirror_mode": {
    "name": "ipython",
    "version": 3
   },
   "file_extension": ".py",
   "mimetype": "text/x-python",
   "name": "python",
   "nbconvert_exporter": "python",
   "pygments_lexer": "ipython3",
   "version": "3.10.9"
  },
  "orig_nbformat": 4
 },
 "nbformat": 4,
 "nbformat_minor": 2
}
