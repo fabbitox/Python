{
 "cells": [
  {
   "attachments": {},
   "cell_type": "markdown",
   "metadata": {},
   "source": [
    "다음 딕셔너리에 대해 물음에 답하라.<br>\n",
    "```python\n",
    "days = {\n",
    "    'January':31, 'February':28, 'March':31, 'April':30, 'May':31, 'June':30,\n",
    "    'July':31, 'August':31, 'September':30, 'October':31, 'November':30, 'December':31\n",
    "}\n",
    "```\n",
    "- 사용자가 월을 입력하면 해당 월의 일수를 출력하라.\n",
    "- 알파벳 순서로 모든 월을 출력하라.\n",
    "- 일수가 31인 월을 모두 출력하라.\n",
    "- 월의 일수를 기준으로 오름차순으로 (key-value) 쌍을 출력하라.\n",
    "- 사용자가 월을 3자리만 입력하면 월의 일수를 출력하라."
   ]
  },
  {
   "cell_type": "code",
   "execution_count": null,
   "metadata": {},
   "outputs": [],
   "source": [
    "days = {\n",
    "    'January':31, 'February':28, 'March':31, 'April':30, 'May':31, 'June':30,\n",
    "    'July':31, 'August':31, 'September':30, 'October':31, 'November':30, 'December':31\n",
    "}"
   ]
  },
  {
   "cell_type": "code",
   "execution_count": null,
   "metadata": {},
   "outputs": [],
   "source": [
    "month = input('월을 입력하세요: ')\n",
    "if month in days:\n",
    "    print(f\"{month}: {days[month]}\")\n",
    "else:\n",
    "    print(\"잘못된 입력\")"
   ]
  },
  {
   "cell_type": "code",
   "execution_count": null,
   "metadata": {},
   "outputs": [],
   "source": [
    "print('알파벳 순서로 모든 월 출력하기')\n",
    "print(sorted(days.keys()))\n",
    "print('일수가 31인 월을 모두 출력')\n",
    "print([mon for mon in days if days[mon] == 31])\n",
    "print('월의 일수를 기준으로 오름차순으로 출력')\n",
    "print(sorted(days.items(), key = lambda x: x[1]))"
   ]
  },
  {
   "cell_type": "code",
   "execution_count": null,
   "metadata": {},
   "outputs": [],
   "source": [
    "mon = input('월을 입력하세요: ')\n",
    "for month in days.keys():\n",
    "    if month.startswith(mon):\n",
    "        print(days[month])"
   ]
  },
  {
   "attachments": {},
   "cell_type": "markdown",
   "metadata": {},
   "source": [
    "다음 딕셔너리에 대해 물음에 답하라.\n",
    "```python\n",
    "d = [\n",
    "    {'name':'Todd', 'phone':'555-1414', 'email':'todd@mail.net'},\n",
    "    {'name':'Helga', 'phone':'555-1618', 'email':'helga@mail.net'},\n",
    "    {'name':'Princess', 'phone':'555-3141', 'email':''},\n",
    "    {'name':'LJ', 'phone':'555-2718', 'email':'lj@mail.net'}\n",
    "]\n",
    "```\n",
    "- 전화번호가 8로 끝나는 사용자 이름을 출력하라.\n",
    "- 이메일이 없는 사용자 이름을 출력하라.\n",
    "- 사용자 이름을 입력하면 전화번호, 이메일을 출력하라.<br>\n",
    "이름이 없으면 '이름이 없습니다'라는 메시지를 출력하라."
   ]
  },
  {
   "cell_type": "code",
   "execution_count": null,
   "metadata": {},
   "outputs": [],
   "source": [
    "d = [\n",
    "    {'name':'Todd', 'phone':'555-1414', 'email':'todd@mail.net'},\n",
    "    {'name':'Helga', 'phone':'555-1618', 'email':'helga@mail.net'},\n",
    "    {'name':'Princess', 'phone':'555-3141', 'email':''},\n",
    "    {'name':'LJ', 'phone':'555-2718', 'email':'lj@mail.net'}\n",
    "]\n",
    "print('전화번호가 8로 끝나는 사용자')\n",
    "for user in d:\n",
    "    if user['phone'].endswith('8'):\n",
    "        print(user['name'])\n",
    "print('이메일이 없는 사용자')\n",
    "for user in d:\n",
    "    if len(user['email']) == 0:\n",
    "        print(user['name'])"
   ]
  },
  {
   "cell_type": "code",
   "execution_count": null,
   "metadata": {},
   "outputs": [],
   "source": [
    "name = input('사용자 이름을 입력하세요: ')\n",
    "find = False\n",
    "for user in d:\n",
    "    if user['name'] == name:\n",
    "        print(f\"전화번호: {user['phone']}, 이메일: {user['email']}\")\n",
    "        find = True\n",
    "if not find:\n",
    "    print(\"이름이 없습니다\")"
   ]
  }
 ],
 "metadata": {
  "kernelspec": {
   "display_name": "Python 3",
   "language": "python",
   "name": "python3"
  },
  "language_info": {
   "codemirror_mode": {
    "name": "ipython",
    "version": 3
   },
   "file_extension": ".py",
   "mimetype": "text/x-python",
   "name": "python",
   "nbconvert_exporter": "python",
   "pygments_lexer": "ipython3",
   "version": "3.10.9"
  },
  "orig_nbformat": 4
 },
 "nbformat": 4,
 "nbformat_minor": 2
}
