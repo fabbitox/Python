{
 "cells": [
  {
   "attachments": {},
   "cell_type": "markdown",
   "metadata": {},
   "source": [
    "enumerate() 내장 함수를 이용하여 사용자가 입력한 문자열에서 'a'의 위치를 모두 찾아 출력하는 프로그램을 작성하라.<br>\n",
    "'a'가 없으면 'a가 없습니다'라는 메시지를 출력하라."
   ]
  },
  {
   "cell_type": "code",
   "execution_count": null,
   "metadata": {},
   "outputs": [],
   "source": [
    "inputstr = input(\"문자열 입력: \")\n",
    "print(f\"입력 문자열: {inputstr}\")\n",
    "find = False\n",
    "for index, char in enumerate(inputstr):\n",
    "    if char == 'a':\n",
    "        print(index, end=' ')\n",
    "        find = True\n",
    "if (not find):\n",
    "    print(\"a가 없습니다\")"
   ]
  },
  {
   "attachments": {},
   "cell_type": "markdown",
   "metadata": {},
   "source": [
    "두 수의 덧셈(sum), 뺄셈(sub), 곱셈(mul), 나눗셈(div)을 수행하는 함수를 각각 정의하라.<br>\n",
    "딕셔너리를 이용하여 사용자가 '1'을 입력하면 sum()을 호출하고, '2'를 입력하면 sub(), '3'을 입력하면 mul(), '4'를 입력하면 div() 함수를 호출하여 두 수의 연산을 수행하는 프로그램을 작성하라.\n"
   ]
  },
  {
   "cell_type": "code",
   "execution_count": null,
   "metadata": {},
   "outputs": [],
   "source": [
    "def sum(num1, num2):\n",
    "    print(f\"{num1} + {num2}\")\n",
    "    return num1 + num2\n",
    "def sub(num1, num2):\n",
    "    print(f\"{num1} - {num2}\")\n",
    "    return num1 - num2\n",
    "def mul(num1, num2):\n",
    "    print(f\"{num1} * {num2}\")\n",
    "    return num1 * num2\n",
    "def div(num1, num2):\n",
    "    print(f\"{num1} / {num2}\")\n",
    "    return num1 / num2\n",
    "operator = {'1': sum, '2': sub, '3': mul, '4': div}\n",
    "select = input(\"연산 선택(1: 덧셈, 2: 뺄셈, 3: 곱셈, 4: 나눗셈): \")\n",
    "if len(select) == 1 and select >= '1' and select <= '4':\n",
    "    num1 = int(input(\"숫자 1: \"))\n",
    "    num2 = int(input(\"숫자 2: \"))\n",
    "    operator[select](num1, num2)\n",
    "else:\n",
    "    print(\"잘못된 입력\")\n"
   ]
  },
  {
   "attachments": {},
   "cell_type": "markdown",
   "metadata": {},
   "source": [
    "다음과 같이 구성되는 문자열을 구분 문자(&, =)로 분리하여 딕셔너리로 반환하는 함수 작성<br>\n",
    "문자열이\n",
    "```python\n",
    "'led=on&motor=off&switch=off'\n",
    "```\n",
    "일 때\n",
    "```python\n",
    "{'led':'on', 'motor':'off', 'switch':'off'}\n",
    "```\n",
    "반환.<br>"
   ]
  },
  {
   "cell_type": "code",
   "execution_count": null,
   "metadata": {},
   "outputs": [],
   "source": [
    "inputstr = input(\"문자열을 입력하세요: \")\n",
    "print(dict(list(map(lambda x: x.split('='), inputstr.split('&')))))"
   ]
  }
 ],
 "metadata": {
  "kernelspec": {
   "display_name": "Python 3",
   "language": "python",
   "name": "python3"
  },
  "language_info": {
   "codemirror_mode": {
    "name": "ipython",
    "version": 3
   },
   "file_extension": ".py",
   "mimetype": "text/x-python",
   "name": "python",
   "nbconvert_exporter": "python",
   "pygments_lexer": "ipython3",
   "version": "3.10.9"
  },
  "orig_nbformat": 4
 },
 "nbformat": 4,
 "nbformat_minor": 2
}
