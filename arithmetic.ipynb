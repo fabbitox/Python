{
  "cells": [
    {
      "attachments": {},
      "cell_type": "markdown",
      "metadata": {
        "id": "N6ksRlJ7vjjn"
      },
      "source": [
        "초를 입력하면 분과 초로 표시하는 프로그램"
      ]
    },
    {
      "cell_type": "code",
      "execution_count": 1,
      "metadata": {
        "id": "qMswHnvovhmH"
      },
      "outputs": [
        {
          "name": "stdout",
          "output_type": "stream",
          "text": [
            "25분 42초\n"
          ]
        }
      ],
      "source": [
        "seconds = int(input(\"초 입력 >> \"))\n",
        "print(f\"{seconds // 60}분 {seconds % 60}초\")"
      ]
    },
    {
      "attachments": {},
      "cell_type": "markdown",
      "metadata": {
        "id": "FmimzJ3Zv3kX"
      },
      "source": [
        "분을 입력하면 일, 시간, 분으로 출력하는 프로그램"
      ]
    },
    {
      "cell_type": "code",
      "execution_count": null,
      "metadata": {
        "id": "AdymNbZuv7y3"
      },
      "outputs": [],
      "source": [
        "minutes = int(input(\"분 입력 >> \"))\n",
        "print(f\"{minutes // 60 // 24}일 {minutes // 60 % 24}시간 {minutes % 60}분\")"
      ]
    },
    {
      "attachments": {},
      "cell_type": "markdown",
      "metadata": {
        "id": "DMSFXGs9v_CX"
      },
      "source": [
        "500만 원을 연이율 5% 복리 저금했을 때 5년 후 원리금의 합계를 출력하는 프로그램"
      ]
    },
    {
      "cell_type": "code",
      "execution_count": null,
      "metadata": {
        "colab": {
          "base_uri": "https://localhost:8080/"
        },
        "id": "slCzBNihwFAI",
        "outputId": "4390c852-d3f1-4f7c-ffc6-1dd14868291a"
      },
      "outputs": [],
      "source": [
        "print(f\"500만 원 연 5% 복리 5년: {5000000 * 1.05 ** 5:,.0f} 원\")"
      ]
    },
    {
      "attachments": {},
      "cell_type": "markdown",
      "metadata": {
        "id": "zb6vqNPYwIwX"
      },
      "source": [
        "1부터 100까지의 합을 출력하는 프로그램"
      ]
    },
    {
      "cell_type": "code",
      "execution_count": null,
      "metadata": {
        "id": "Z2jlCvoyxB6o"
      },
      "outputs": [],
      "source": [
        "print(f\"1부터 100까지의 합: {100 * 101 // 2}\")"
      ]
    },
    {
      "attachments": {},
      "cell_type": "markdown",
      "metadata": {
        "id": "59BBd9ZvxE6n"
      },
      "source": [
        "포도 한 알의 무게는 75g이고 딸기 한 개의 무게는 113.5g일 때 포도 알의 개수와 딸기의 개수를 입력 받아 총 무게를 계산하여 출력하는 프로그램."
      ]
    },
    {
      "cell_type": "code",
      "execution_count": null,
      "metadata": {
        "colab": {
          "base_uri": "https://localhost:8080/"
        },
        "id": "35WxovxnxLww",
        "outputId": "ea8442d5-23d4-4ecc-adcf-5a4732eb05a0"
      },
      "outputs": [],
      "source": [
        "grape = int(input(\"포도 알 개수 >> \"))\n",
        "strawberry = int(input(\"딸기 개수 >> \"))\n",
        "print(f\"총 무게: {grape * 75 + strawberry * 113.5:,} g\")"
      ]
    }
  ],
  "metadata": {
    "colab": {
      "provenance": [],
      "toc_visible": true
    },
    "kernelspec": {
      "display_name": "Python 3",
      "name": "python3"
    },
    "language_info": {
      "codemirror_mode": {
        "name": "ipython",
        "version": 3
      },
      "file_extension": ".py",
      "mimetype": "text/x-python",
      "name": "python",
      "nbconvert_exporter": "python",
      "pygments_lexer": "ipython3",
      "version": "3.10.9"
    }
  },
  "nbformat": 4,
  "nbformat_minor": 0
}
