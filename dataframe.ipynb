{
 "cells": [
  {
   "cell_type": "code",
   "execution_count": null,
   "metadata": {},
   "outputs": [],
   "source": [
    "import pandas as pd\n",
    "import matplotlib.pyplot as plt"
   ]
  },
  {
   "cell_type": "code",
   "execution_count": null,
   "metadata": {},
   "outputs": [],
   "source": [
    "data = {\n",
    "    'year': [2017, 2018, 2019, 2020, 2021],\n",
    "    'A_product_sales': [6, 7, 8, 9, 10],\n",
    "    'B_product_sales': [11, 12, 13, 14, 15],\n",
    "    'C_product_sales': [9, 8, 7, 6, 5]\n",
    "}\n",
    "df = pd.DataFrame(data)\n",
    "selected_data = df[df['year'] >= 2019]\n",
    "df = selected_data[['year', 'A_product_sales', 'B_product_sales']]\n",
    "plt.plot(df['year'], df['A_product_sales'], marker = 'o', label = 'A')\n",
    "plt.plot(df['year'], df['B_product_sales'], marker = 'o', label = 'B')\n",
    "plt.xticks(df['year'])\n",
    "plt.legend()\n",
    "plt.show()"
   ]
  },
  {
   "attachments": {},
   "cell_type": "markdown",
   "metadata": {},
   "source": [
    "tips.csv 파일을 read_csv 함수로 읽어 들여 아래 문제를 풀어보자.\n",
    "* total_bill이 20보다 큰 행들만 선택해보세요.\n",
    "* sex가 'Female'인 행들만 선택해보세요.\n",
    "* day가 'Sun'이고 time이 'Dinner'인 행들만 선택해보세요.\n",
    "* tip이 5보다 크고 size가 3 또는 4인 행들만 선택해보세요.\n",
    "* total_bill, tip, size 열만 선택해보세요."
   ]
  },
  {
   "cell_type": "code",
   "execution_count": null,
   "metadata": {},
   "outputs": [],
   "source": [
    "df = pd.read_csv('tips.csv')\n",
    "df[df['total_bill'] > 20]\n",
    "df[df['sex'] == 'Female']\n",
    "df[(df['day'] == 'Sun') & (df['time'] == 'Dinner')]\n",
    "df[(df['tip'] > 5) & (df['size'].isin([3, 4]))]\n",
    "df[['total_bill', 'tip', 'size']]"
   ]
  },
  {
   "attachments": {},
   "cell_type": "markdown",
   "metadata": {},
   "source": [
    "### 데이터 전처리"
   ]
  },
  {
   "cell_type": "code",
   "execution_count": null,
   "metadata": {},
   "outputs": [],
   "source": [
    "import pandas as pd\n",
    "\n",
    "data = {'이름': ['John', 'Steve', 'Sarah', 'Ann', 'Mike'],\n",
    "        '나이': [25, 32, 28, 35, 41],\n",
    "        '성별': ['남', '남', '여', '여', '남'],\n",
    "        '키': [175, 180, 163, 155, 190]}\n",
    "df = pd.DataFrame(data)\n"
   ]
  },
  {
   "attachments": {},
   "cell_type": "markdown",
   "metadata": {},
   "source": [
    "* '학년' 열을 추가하고, 모든 행에 '3학년'이라는 값으로 채워 넣으세요.\n",
    "* '국적' 열을 추가하고, 각 행에 해당하는 사람의 국적을 채워 넣으세요.\n",
    "* '성별'이 '여'인 행만 남기고 나머지 행을 삭제하세요.\n",
    "* '나이' 열을 기준으로 내림차순으로 행을 정렬하세요.\n",
    "* 인덱스가 2인 행을 삭제하세요.\n",
    "* 아래 새로운 행 3개를 추가하세요.\n",
    "```python\n",
    "[\n",
    "    {'이름': 'Alex', '나이': 22, '성별': '남', '키': 180, '학년': '2학년', '국적': '미국'},\n",
    "    {'이름': 'Emily', '나이': 29, '성별': '여', '키': 165, '학년': '1학년', '국적': '캐나다'},\n",
    "    {'이름': 'Daniel', '나이': 33, '성별': '남', '키': 175, '학년': '3학년', '국적': '호주'}\n",
    "]\n",
    "```\n",
    "* '이름' 열을 기준으로 오름차순으로 행을 정렬하세요.\n",
    "* '키' 열의 값을 cm에서 m로 변환하세요.\n",
    "* '성별' 열을 삭제하세요."
   ]
  },
  {
   "cell_type": "code",
   "execution_count": null,
   "metadata": {},
   "outputs": [],
   "source": [
    "df['학년'] = '3학년'\n",
    "df['국적'] = ['미국', '영국', '한국', '중국', '일본']\n",
    "df = df[df['성별'] == '여']\n",
    "df = df.sort_values(by='나이', ascending=False)\n",
    "df = df.drop(2)\n",
    "new_rows = [\n",
    "    {'이름': 'Alex', '나이': 22, '성별': '남', '키': 180, '학년': '2학년', '국적': '미국'},\n",
    "    {'이름': 'Emily', '나이': 29, '성별': '여', '키': 165, '학년': '1학년', '국적': '캐나다'},\n",
    "    {'이름': 'Daniel', '나이': 33, '성별': '남', '키': 175, '학년': '3학년', '국적': '호주'}\n",
    "]\n",
    "for row in new_rows:\n",
    "    df = pd.concat([df, pd.DataFrame([row])], ignore_index=True)\n",
    "# df = df.append(new_rows, ignore_index=True)\n",
    "df = df.sort_values(by='이름')\n",
    "df['키'] = df['키'] / 100\n",
    "df = df.drop('성별', axis=1)"
   ]
  },
  {
   "attachments": {},
   "cell_type": "markdown",
   "metadata": {},
   "source": [
    "이름의 첫 글자에 따른 평균 나이 비교"
   ]
  },
  {
   "cell_type": "code",
   "execution_count": null,
   "metadata": {},
   "outputs": [],
   "source": [
    "import pandas as pd\n",
    "import matplotlib.pyplot as plt\n",
    "import numpy as np\n",
    "\n",
    "data = {'Name': ['John', 'Mike', 'Sarah', 'Adam', 'Emily', 'Daniel', 'Olivia', 'Liam', 'Sophia', 'Ethan',\n",
    "                 'Emma', 'Jacob', 'Ava', 'Mia', 'Noah', 'Charlotte', 'Harper', 'William', 'Benjamin', 'Elijah',\n",
    "                 'Amelia', 'James', 'Oliver', 'Lucas', 'Mason', 'Logan', 'Alexander', 'Evelyn', 'Grace', 'Victoria'],\n",
    "        'Age': np.random.randint(20, 40, 30),\n",
    "        'Gender': ['Male', 'Male', 'Female', 'Male', 'Female', 'Male', 'Female', 'Male', 'Female', 'Male',\n",
    "                   'Female', 'Male', 'Female', 'Female', 'Male', 'Female', 'Female', 'Male', 'Male', 'Male',\n",
    "                   'Female', 'Male', 'Male', 'Male', 'Male', 'Male', 'Male', 'Female', 'Female', 'Female'],\n",
    "        'City': ['New York', 'Paris', 'London', 'Sydney', 'Tokyo', 'Berlin', 'Rome', 'Madrid', 'Seoul', 'Beijing',\n",
    "                 'Moscow', 'Vienna', 'Athens', 'Cairo', 'Lisbon', 'Dublin', 'Amsterdam', 'Stockholm', 'Oslo', 'Helsinki',\n",
    "                 'Copenhagen', 'Budapest', 'Prague', 'Warsaw', 'Vienna', 'Brussels', 'Luxembourg', 'Zurich', 'Geneva', 'Dubai']}\n",
    "df = pd.DataFrame(data)\n",
    "\n",
    "df['initial'] = df['Name'].str[0]\n",
    "mean_age_initial = df.groupby('initial')['Age'].mean()\n",
    "\n",
    "overall_mean_age = df['Age'].mean()\n",
    "plt.bar(mean_age_initial.index, mean_age_initial)\n",
    "plt.axhline(overall_mean_age, color='red', linestyle='--', label='Overall_mean_age')\n",
    "plt.xlabel('initial')\n",
    "plt.ylabel('Mean Age')\n",
    "plt.legend()\n",
    "plt.show()"
   ]
  },
  {
   "attachments": {},
   "cell_type": "markdown",
   "metadata": {},
   "source": [
    "데이터 파일은 다음과 같은 필드를 포함합니다.\n",
    "+ 측정일시\n",
    "+ 미세먼지 농도 (PM10)\n",
    "+ 초미세먼지 농도 (PM2.5)\n",
    "\n",
    "측정일시, 미세먼지 농도, 초미세먼지 농도에 해당하는 필드만 추출하여 전처리합니다."
   ]
  },
  {
   "cell_type": "code",
   "execution_count": null,
   "metadata": {},
   "outputs": [],
   "source": [
    "df = pd.read_csv('일별평균대기오염도_2022.csv', encoding=\"cp949\")\n",
    "df = df[['측정일시', '측정소명', '미세먼지농도(㎍/㎥)', '초미세먼지농도(㎍/㎥)']]\n",
    "df = df.dropna()\n",
    "df['측정일시'] = pd.to_datetime(df['측정일시'], format='%Y%m%d')\n",
    "df_monthly = df.resample('M', on='측정일시').mean(numeric_only=True)\n",
    "\n",
    "plt.plot(df_monthly.index, df_monthly['미세먼지농도(㎍/㎥)'], label='PM10')\n",
    "plt.plot(df_monthly.index, df_monthly['초미세먼지농도(㎍/㎥)'], label='PM2.5')\n",
    "plt.legend()\n",
    "plt.xlabel('Month')\n",
    "plt.ylabel('Concentration')\n",
    "plt.title('2022 Air Pollution Trend')\n",
    "plt.show()\n"
   ]
  }
 ],
 "metadata": {
  "kernelspec": {
   "display_name": "Python 3",
   "language": "python",
   "name": "python3"
  },
  "language_info": {
   "codemirror_mode": {
    "name": "ipython",
    "version": 3
   },
   "file_extension": ".py",
   "mimetype": "text/x-python",
   "name": "python",
   "nbconvert_exporter": "python",
   "pygments_lexer": "ipython3",
   "version": "3.10.9"
  },
  "orig_nbformat": 4
 },
 "nbformat": 4,
 "nbformat_minor": 2
}
