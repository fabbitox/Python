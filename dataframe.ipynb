{
 "cells": [
  {
   "cell_type": "code",
   "execution_count": null,
   "metadata": {},
   "outputs": [],
   "source": [
    "import pandas as pd\n",
    "import matplotlib.pyplot as plt"
   ]
  },
  {
   "cell_type": "code",
   "execution_count": null,
   "metadata": {},
   "outputs": [],
   "source": [
    "data = {\n",
    "    'year': [2017, 2018, 2019, 2020, 2021],\n",
    "    'A_product_sales': [6, 7, 8, 9, 10],\n",
    "    'B_product_sales': [11, 12, 13, 14, 15],\n",
    "    'C_product_sales': [9, 8, 7, 6, 5]\n",
    "}\n",
    "df = pd.DataFrame(data)\n",
    "selected_data = df[df['year'] >= 2019]\n",
    "df = selected_data[['year', 'A_product_sales', 'B_product_sales']]\n",
    "plt.plot(df['year'], df['A_product_sales'], marker = 'o', label = 'A')\n",
    "plt.plot(df['year'], df['B_product_sales'], marker = 'o', label = 'B')\n",
    "plt.xticks(df['year'])\n",
    "plt.legend()\n",
    "plt.show()"
   ]
  },
  {
   "attachments": {},
   "cell_type": "markdown",
   "metadata": {},
   "source": [
    "tips.csv 파일을 read_csv 함수로 읽어 들여 아래 문제를 풀어보자.\n",
    "* total_bill이 20보다 큰 행들만 선택해보세요.\n",
    "* sex가 'Female'인 행들만 선택해보세요.\n",
    "* day가 'Sun'이고 time이 'Dinner'인 행들만 선택해보세요.\n",
    "* tip이 5보다 크고 size가 3 또는 4인 행들만 선택해보세요.\n",
    "* total_bill, tip, size 열만 선택해보세요."
   ]
  },
  {
   "cell_type": "code",
   "execution_count": null,
   "metadata": {},
   "outputs": [],
   "source": [
    "df = pd.read_csv('tips.csv')\n",
    "df[df['total_bill'] > 20]\n",
    "df[df['sex'] == 'Female']\n",
    "df[(df['day'] == 'Sun') & (df['time'] == 'Dinner')]\n",
    "df[(df['tip'] > 5) & (df['size'].isin([3, 4]))]\n",
    "df[['total_bill', 'tip', 'size']]"
   ]
  }
 ],
 "metadata": {
  "kernelspec": {
   "display_name": "Python 3",
   "language": "python",
   "name": "python3"
  },
  "language_info": {
   "codemirror_mode": {
    "name": "ipython",
    "version": 3
   },
   "file_extension": ".py",
   "mimetype": "text/x-python",
   "name": "python",
   "nbconvert_exporter": "python",
   "pygments_lexer": "ipython3",
   "version": "3.10.9"
  },
  "orig_nbformat": 4
 },
 "nbformat": 4,
 "nbformat_minor": 2
}
