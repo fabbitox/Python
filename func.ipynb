{
 "cells": [
  {
   "attachments": {},
   "cell_type": "markdown",
   "metadata": {},
   "source": [
    "1부터 n까지의 합을 계산하는 함수"
   ]
  },
  {
   "cell_type": "code",
   "execution_count": null,
   "metadata": {},
   "outputs": [],
   "source": [
    "def sumto_n(n):\n",
    "    return n * (n + 1) // 2\n",
    "print(sumto_n(50))"
   ]
  },
  {
   "attachments": {},
   "cell_type": "markdown",
   "metadata": {},
   "source": [
    "두 개의 매개변수 m, n을 전달 받아 (m x n)개의 * 상자를 출력하는 함수"
   ]
  },
  {
   "cell_type": "code",
   "execution_count": null,
   "metadata": {},
   "outputs": [],
   "source": [
    "def box(m, n):\n",
    "    for i in range(m):\n",
    "        print('*' * n)\n",
    "m = int(input(\"m: \"))\n",
    "n = int(input(\"n: \"))\n",
    "box(m, n)\n"
   ]
  },
  {
   "attachments": {},
   "cell_type": "markdown",
   "metadata": {},
   "source": [
    "하나의 숫자를 전달 받아 자리 합을 구하는 함수"
   ]
  },
  {
   "cell_type": "code",
   "execution_count": null,
   "metadata": {},
   "outputs": [],
   "source": [
    "def digitsum(numstr):\n",
    "    sum = 0\n",
    "    for i in range(len(numstr) - 1):\n",
    "        print(numstr[i] + \" + \", end='')\n",
    "        sum += int(numstr[i])\n",
    "    sum += int(numstr[-1])\n",
    "    print(numstr[-1] + \" = \", end='')\n",
    "    print(sum)\n",
    "numstr = input(\"number: \")\n",
    "digitsum(numstr)"
   ]
  },
  {
   "attachments": {},
   "cell_type": "markdown",
   "metadata": {},
   "source": [
    "두 개의 문자열이 처음으로 다른 위치를 반환하는 함수\n",
    "같으면 -1"
   ]
  },
  {
   "cell_type": "code",
   "execution_count": null,
   "metadata": {},
   "outputs": [],
   "source": [
    "def firstdiffpos(str1, str2):\n",
    "    length = min(len(str1), len(str2))\n",
    "    for i in range(length):\n",
    "        if str1[i] != str2[i]:\n",
    "            return i\n",
    "    return length\n",
    "str1 = input(\"문자열 1: \")\n",
    "str2 = input(\"문자열 2: \")\n",
    "print(f\"문자열 1: {str1}\")\n",
    "print(f\"문자열 2: {str2}\")\n",
    "print(f\"처음으로 다른 위치: {firstdiffpos(str1, str2)}\")"
   ]
  },
  {
   "attachments": {},
   "cell_type": "markdown",
   "metadata": {},
   "source": [
    "문자열과 하나의 문자를 전달 받아 문자열에서 문자의 위치를 모두 찾아 리스트로 반환하는 함수"
   ]
  },
  {
   "cell_type": "code",
   "execution_count": null,
   "metadata": {},
   "outputs": [],
   "source": [
    "def charpositions(searchstr, target):\n",
    "    poslist = []\n",
    "    for i in range(len(searchstr)):\n",
    "        if searchstr[i] == target:\n",
    "            poslist.append(i)\n",
    "    return poslist\n",
    "searchstr = input(\"문자열 입력: \")\n",
    "target = input(\"문자 입력: \")\n",
    "print(f\"문자열: {searchstr}\")\n",
    "print(f\"문자: {target}\")\n",
    "print(charpositions(searchstr, target))"
   ]
  }
 ],
 "metadata": {
  "kernelspec": {
   "display_name": "Python 3",
   "language": "python",
   "name": "python3"
  },
  "language_info": {
   "codemirror_mode": {
    "name": "ipython",
    "version": 3
   },
   "file_extension": ".py",
   "mimetype": "text/x-python",
   "name": "python",
   "nbconvert_exporter": "python",
   "pygments_lexer": "ipython3",
   "version": "3.10.9"
  },
  "orig_nbformat": 4
 },
 "nbformat": 4,
 "nbformat_minor": 2
}
