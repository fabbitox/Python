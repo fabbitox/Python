{
 "cells": [
  {
   "attachments": {},
   "cell_type": "markdown",
   "metadata": {},
   "source": [
    "### 사용자 정의 모듈을 작성하여 간단한 수학 연산을 수행해 보세요.\n",
    "+ mymath.py라는 파일을 만들고, 이 파일에 사용자 정의 모듈을 작성하세요.\n",
    "+ 모듈에 다음 함수들을 구현하세요.\n",
    "    + add(x, y): 두 숫자 x와 y를 더한 값을 반환합니다.\n",
    "    + subtract(x, y): x에서 y를 뺀 값을 반환합니다.\n",
    "    + multiply(x, y): x와 y를 곱한 값을 반환합니다.\n",
    "    + divide(x, y): x를 y로 나눈 값을 반환합니다.\n",
    "        + 단, y가 0이면 \"0으로 나눌 수 없습니다.\"라는 메시지를 출력합니다.\n",
    "+ main.py라는 파일을 만들어 mymath 모듈을 임포트하고, 각 함수를 호출하여 결과를 출력하세요."
   ]
  },
  {
   "cell_type": "code",
   "execution_count": null,
   "metadata": {},
   "outputs": [],
   "source": [
    "import mymath\n",
    "\n",
    "x = int(input(\"x: \"))\n",
    "y = int(input(\"y: \"))\n",
    "\n",
    "print(f\"더하기 결과: {mymath.add(x, y)}\")\n",
    "print(f\"빼기 결과: {mymath.subtract(x, y)}\")\n",
    "print(f\"곱하기 결과: {mymath.multiply(x, y)}\")\n",
    "if mymath.divide(x, y) != None:\n",
    "    print(f\"나누기 결과: {mymath.divide(x, y):.4f}\")"
   ]
  }
 ],
 "metadata": {
  "kernelspec": {
   "display_name": "Python 3",
   "language": "python",
   "name": "python3"
  },
  "language_info": {
   "codemirror_mode": {
    "name": "ipython",
    "version": 3
   },
   "file_extension": ".py",
   "mimetype": "text/x-python",
   "name": "python",
   "nbconvert_exporter": "python",
   "pygments_lexer": "ipython3",
   "version": "3.10.9"
  },
  "orig_nbformat": 4
 },
 "nbformat": 4,
 "nbformat_minor": 2
}
