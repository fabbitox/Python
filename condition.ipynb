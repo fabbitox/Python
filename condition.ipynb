{
 "cells": [
  {
   "attachments": {},
   "cell_type": "markdown",
   "metadata": {},
   "source": [
    "# 성적 계산기\n",
    "사용자로부터 국어, 영어, 수학 세 과목의 성적을 입력받아, 각 과목의 평균 점수와 총 평균 점수를 계산한 후, 학점을 출력하는 프로그램을 작성하세요.<br>\n",
    "평균 점수는 소수점 둘째자리까지 출력합니다.<br>\n",
    "총 평균 점수는 국어: 40%, 영어: 40%, 수학: 20%로 가중치를 부여하여 계산합니다.<br>\n",
    "총 평균 점수가 90점 이상인 경우 \"A\", 80점 이상인 경우 \"B\", 70점 이상인 경우 \"C\", 60점 이상인 경우 \"D\", 60점 미만인 경우 \"F\"를 출력합니다."
   ]
  },
  {
   "cell_type": "code",
   "execution_count": null,
   "metadata": {},
   "outputs": [],
   "source": [
    "print(\"[성적 계산기]\")\n",
    "korean = int(input(\"국어 성적을 입력하세요: \"))\n",
    "english = int(input(\"영어 성적을 입력하세요: \"))\n",
    "math = int(input(\"수학 성적을 입력하세요: \"))\n",
    "score = korean * 0.4 + english * 0.4 + math * 0.2\n",
    "if score >= 90:\n",
    "    grade = \"A\"\n",
    "elif score >= 80:\n",
    "    grade = \"B\"\n",
    "elif score >= 70:\n",
    "    grade = \"C\"\n",
    "elif score >= 60:\n",
    "    grade = \"D\"\n",
    "else:\n",
    "    grade = \"F\"\n",
    "print(\"[성적 결과]\")\n",
    "print(f\"국어: {korean}점, 영어: {english}점, 수학: {math}점\")\n",
    "print(f\"평균 점수: {score}점\")\n",
    "print(f\"학점: {grade}\")"
   ]
  },
  {
   "attachments": {},
   "cell_type": "markdown",
   "metadata": {},
   "source": [
    "사용자로부터 cm 단위의 길이를 입력 받는다. 입력 값이 음수이면 \"잘못 입력하였습니다\"라는 메시지를 출력하고 양수이면 길이를 인치로 변환하여 출력하는 프로그램을 작성하라. 1인치 = 2.54cm"
   ]
  },
  {
   "cell_type": "code",
   "execution_count": null,
   "metadata": {},
   "outputs": [],
   "source": [
    "cm = int(input(\"길이를 입력하세요(cm) >> \"))\n",
    "if cm < 0:\n",
    "    print(\"잘못 입력하였습니다\")\n",
    "else:\n",
    "    print(f\"{cm / 2.54:,.2f}인치\")"
   ]
  },
  {
   "attachments": {},
   "cell_type": "markdown",
   "metadata": {},
   "source": [
    "사용자로부터 이수한 학점을 입력 받는다. 학점이 40학점 미만이면 \"1학년입니다\"를 출력하고, 40이상 80미만이면 \"2학년입니다\"를 출력한다. 학점이 80이상이면 \"졸업반입니다\"를 출력하는 프로그램을 작성하라."
   ]
  },
  {
   "cell_type": "code",
   "execution_count": null,
   "metadata": {},
   "outputs": [],
   "source": [
    "credit = int(input(\"이수한 학점을 입력하세요 >> \"))\n",
    "if credit < 40:\n",
    "    print(\"1학년입니다\")\n",
    "elif credit < 80:\n",
    "    print(\"2학년입니다\")\n",
    "else:\n",
    "    print(\"졸업반입니다\")"
   ]
  },
  {
   "attachments": {},
   "cell_type": "markdown",
   "metadata": {},
   "source": [
    "사용자로부터 현재 시각을 나타내는 1~12의 숫자를 입력 받는다. 또 \"am\" 혹은 \"pm\"을 입력 받고 경과 시간을 나타내는 값을 입력 받는다. 이로부터 최종 시각이 몇 시인지 출력하는 프로그램을 작성하라."
   ]
  },
  {
   "cell_type": "code",
   "execution_count": null,
   "metadata": {},
   "outputs": [],
   "source": [
    "hour = int(input(\"Enter hour: \"))\n",
    "ampm = input(\"am or pm? \")\n",
    "add = int(input(\"Hours to add: \"))\n",
    "\n",
    "if hour > 0 and hour <= 12 and (ampm == \"am\" or ampm == \"pm\"):\n",
    "    if hour == 12 and ampm == \"am\":\n",
    "        hour = 0\n",
    "    elif hour != 12 and ampm == \"pm\":\n",
    "        hour += 12\n",
    "    reshour = (hour + add) % 24\n",
    "    if reshour < 12:\n",
    "        resampm = \"am\"\n",
    "        if reshour == 0:\n",
    "            reshour = 12\n",
    "    else:\n",
    "        resampm = \"pm\"\n",
    "        if reshour != 12:\n",
    "            reshour -= 12\n",
    "    print(f\"Result: {reshour} {resampm}\")\n",
    "else:\n",
    "    print(\"Wrong input\")"
   ]
  }
 ],
 "metadata": {
  "kernelspec": {
   "display_name": "Python 3",
   "language": "python",
   "name": "python3"
  },
  "language_info": {
   "codemirror_mode": {
    "name": "ipython",
    "version": 3
   },
   "file_extension": ".py",
   "mimetype": "text/x-python",
   "name": "python",
   "nbconvert_exporter": "python",
   "pygments_lexer": "ipython3",
   "version": "3.10.9"
  },
  "orig_nbformat": 4
 },
 "nbformat": 4,
 "nbformat_minor": 2
}
