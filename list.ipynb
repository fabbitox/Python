{
 "cells": [
  {
   "attachments": {},
   "cell_type": "markdown",
   "metadata": {},
   "source": [
    "3명 이상 친구 이름 리스트를 작성하고 다음 내용을 프로그램하시오.\n",
    "- insert()로 맨 앞에 새로운 친구 추가\n",
    "- insert()로 세 번째 위치에 새로운 친구 추가\n",
    "- append()로 마지막에 친구 추가"
   ]
  },
  {
   "cell_type": "code",
   "execution_count": null,
   "metadata": {},
   "outputs": [],
   "source": [
    "names = ['Arial', 'Cindy', 'Diana']\n",
    "print(f\"친구 이름 리스트: {names}\")\n",
    "names.insert(0, 'first')\n",
    "print(f\"맨 앞에 추가: {names}\")\n",
    "names.insert(2, 'Tony')\n",
    "print(f\"세 번째에 추가: {names}\")\n",
    "names.append('Lily')\n",
    "print(f\"마지막에 추가: {names}\")"
   ]
  },
  {
   "attachments": {},
   "cell_type": "markdown",
   "metadata": {},
   "source": [
    "리스트 [1, 2, 3]에 다음과 같은 처리를 하라.\n",
    "- 두 번째 요소를 17로 수정\n",
    "- 리스트에 4, 5, 6 추가\n",
    "- 첫 번째 요소 제거\n",
    "- 요소 순서대로 배열\n",
    "- index 3에 25 넣기"
   ]
  },
  {
   "cell_type": "code",
   "execution_count": null,
   "metadata": {},
   "outputs": [],
   "source": [
    "numlist = [1, 2, 3]\n",
    "print(f\"리스트: {numlist}\")\n",
    "numlist[1] = 17\n",
    "print(f\"두 번째 요소 수정: {numlist}\")\n",
    "numlist.extend([4, 5, 6])\n",
    "print(f\"4, 5, 6 추가: {numlist}\")\n",
    "numlist.sort()\n",
    "print(f\"정렬: {numlist}\")\n",
    "numlist[3] = 25\n",
    "print(f\"index 3에 25 넣기: {numlist}\")"
   ]
  },
  {
   "attachments": {},
   "cell_type": "markdown",
   "metadata": {},
   "source": [
    "for 루프를 이용하여 다음과 같은 리스트를 생성하라.\n",
    "* 0부터 49까지의 수로 구성되는 리스트\n",
    "* 1부터 50까지 수의 제곱으로 구성되는 리스트"
   ]
  },
  {
   "cell_type": "code",
   "execution_count": null,
   "metadata": {},
   "outputs": [],
   "source": [
    "print([i for i in range(50)])\n",
    "print([i ** 2 for i in range(1, 51)])"
   ]
  },
  {
   "attachments": {},
   "cell_type": "markdown",
   "metadata": {},
   "source": [
    "크기가 같은 두 개의 리스트 L, M을 생성하고 두 리스트의 각 요소 합으로 구성되는 새로운 리스트를 생성하라."
   ]
  },
  {
   "cell_type": "code",
   "execution_count": null,
   "metadata": {},
   "outputs": [],
   "source": [
    "L = [1, 2, 3]\n",
    "M = [4, 5, 6]\n",
    "print([L[i] + M[i] for i in range(len(L))])"
   ]
  },
  {
   "attachments": {},
   "cell_type": "markdown",
   "metadata": {},
   "source": [
    "사용자로부터 5개의 숫자를 문자열로 입력 받아 각 숫자를 +로 연결한 문자열을 생성하라."
   ]
  },
  {
   "cell_type": "code",
   "execution_count": null,
   "metadata": {},
   "outputs": [],
   "source": [
    "plustr = ''\n",
    "for i in range(4):\n",
    "    plustr += input('숫자를 입력하세요: ') + ' + '\n",
    "plustr += input('숫자를 입력하세요: ')\n",
    "print(plustr)"
   ]
  }
 ],
 "metadata": {
  "kernelspec": {
   "display_name": "Python 3",
   "language": "python",
   "name": "python3"
  },
  "language_info": {
   "codemirror_mode": {
    "name": "ipython",
    "version": 3
   },
   "file_extension": ".py",
   "mimetype": "text/x-python",
   "name": "python",
   "nbconvert_exporter": "python",
   "pygments_lexer": "ipython3",
   "version": "3.10.9"
  },
  "orig_nbformat": 4
 },
 "nbformat": 4,
 "nbformat_minor": 2
}
