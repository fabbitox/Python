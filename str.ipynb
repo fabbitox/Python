{
 "cells": [
  {
   "attachments": {},
   "cell_type": "markdown",
   "metadata": {},
   "source": [
    "문자열 hello world에서 world 부분 문자열을 추출"
   ]
  },
  {
   "cell_type": "code",
   "execution_count": null,
   "metadata": {},
   "outputs": [],
   "source": [
    "string = \"hello world\"\n",
    "substring = string[6:]\n",
    "print(substring)  # \"world\""
   ]
  },
  {
   "attachments": {},
   "cell_type": "markdown",
   "metadata": {},
   "source": [
    "문자열 hello world에서 hello 부분 문자열을 추출"
   ]
  },
  {
   "cell_type": "code",
   "execution_count": null,
   "metadata": {},
   "outputs": [],
   "source": [
    "string = \"hello world\"\n",
    "substring = string[:5]\n",
    "print(substring)  # \"hello\""
   ]
  },
  {
   "attachments": {},
   "cell_type": "markdown",
   "metadata": {},
   "source": [
    "문자열 hello world에서 hlowrd 부분 문자열을 추출"
   ]
  },
  {
   "cell_type": "code",
   "execution_count": null,
   "metadata": {},
   "outputs": [],
   "source": [
    "string = \"hello world\"\n",
    "substring = string[::2]\n",
    "print(substring)  # \"hlowrd\"\n"
   ]
  },
  {
   "attachments": {},
   "cell_type": "markdown",
   "metadata": {},
   "source": [
    "문자열 뒤집기"
   ]
  },
  {
   "cell_type": "code",
   "execution_count": null,
   "metadata": {},
   "outputs": [],
   "source": [
    "s = \"Hello, world!\"\n",
    "reversed_s = s[::-1]\n",
    "print(reversed_s)  # \"!dlrow ,olleH\""
   ]
  },
  {
   "attachments": {},
   "cell_type": "markdown",
   "metadata": {},
   "source": [
    "사용자가 입력한 문자열에 대해 다음 물음에 답하라\n",
    "- 문자열의 문자 수\n",
    "- 10번 반복한 문자열\n",
    "- 첫 번째 문자\n",
    "- 처음 세 문자\n",
    "- 마지막 세 문자\n",
    "- 거꾸로\n",
    "- 7번째 문자가 있으면 출력, 없으면 없다고 출력\n",
    "- 첫 번째 문자와 마지막 문자를 제거한 문자열\n",
    "- 모두 대문자로\n",
    "- 모두 소문자로\n",
    "- 'a'를 'e'로 바꿔서 출력"
   ]
  },
  {
   "cell_type": "code",
   "execution_count": null,
   "metadata": {},
   "outputs": [],
   "source": [
    "inputstr = input(\"문자열을 입력하세요: \")\n",
    "strlen = len(inputstr)\n",
    "print(f\"문자 수: {strlen}\")\n",
    "print(\"10번 반복: \" + inputstr * 10)\n",
    "print(\"첫 번째 문자: \" + inputstr[0])\n",
    "print(\"처음 세 문자: \" + inputstr[:3])\n",
    "print(\"마지막 세 문자: \" + inputstr[-3:])\n",
    "print(\"거꾸로: \" + inputstr[::-1])\n",
    "if strlen >= 7:\n",
    "    seventh = inputstr[6]\n",
    "else:\n",
    "    seventh = \"없습니다\"\n",
    "print(\"7번째 문자: \" + seventh)\n",
    "print(\"첫 번째 문자와 마지막 문자를 제거: \" + inputstr[1:-1])\n",
    "print(\"모두 대문자로: \" + inputstr.upper())\n",
    "print(\"모두 소문자로: \" + inputstr.lower())\n",
    "print(\"'a'를 'e'로 대체: \" + inputstr.replace('a', 'e'))"
   ]
  },
  {
   "attachments": {},
   "cell_type": "markdown",
   "metadata": {},
   "source": [
    "문자 'a'가 들어가는 단어를 입력 받아 첫 번째 줄에는 'a'까지의 문자열을 출력하고 두 번째 줄에는 나머지 문자열을 출력하는 프로그램을 작성하라."
   ]
  },
  {
   "cell_type": "code",
   "execution_count": null,
   "metadata": {},
   "outputs": [],
   "source": [
    "inputstr = input(\"'a'가 들어가는 단어를 입력하세요: \")\n",
    "aindex = inputstr.find('a')\n",
    "if aindex != -1:\n",
    "    print(inputstr[:aindex + 1])\n",
    "    print(inputstr[aindex + 1:])"
   ]
  },
  {
   "attachments": {},
   "cell_type": "markdown",
   "metadata": {},
   "source": [
    "숫자를 문자열로 변화하는 방법은 str(num)을 이용한다.<br>\n",
    "str(12)는 '12'가 된다.<br>\n",
    "반대로 문자열을 숫자로 변환하려면 int(string)을 이용한다.<br>\n",
    "int('12')는 12가 된다.<br>\n",
    "이를 이용하여 1부터 1000까지의 숫자의 각 자리수의 합을 모두 구하라.<br>\n",
    "예를 들어 234는 2+3+4=9가 된다"
   ]
  },
  {
   "cell_type": "code",
   "execution_count": null,
   "metadata": {},
   "outputs": [],
   "source": [
    "inputstr = input(\"숫자를 입력하세요: \")\n",
    "if inputstr.isdigit():\n",
    "    sum = 0\n",
    "    for s in inputstr:\n",
    "        sum += int(s)\n",
    "    print(sum)"
   ]
  }
 ],
 "metadata": {
  "kernelspec": {
   "display_name": "Python 3",
   "language": "python",
   "name": "python3"
  },
  "language_info": {
   "codemirror_mode": {
    "name": "ipython",
    "version": 3
   },
   "file_extension": ".py",
   "mimetype": "text/x-python",
   "name": "python",
   "nbconvert_exporter": "python",
   "pygments_lexer": "ipython3",
   "version": "3.10.9"
  },
  "orig_nbformat": 4
 },
 "nbformat": 4,
 "nbformat_minor": 2
}
