{
 "cells": [
  {
   "attachments": {},
   "cell_type": "markdown",
   "metadata": {},
   "source": [
    "# 3의 배수와 5의 배수의 합 구하기\n",
    "사용자로부터 양의 정수 n을 입력받아, 1부터 n까지의 자연수 중에서 3의 배수와 5의 배수의 합을 구하고, 이를 출력하는 프로그램을 작성하세요.\n",
    "+ 사용자로부터 입력받는 정수 n은 1 이상의 양의 정수입니다.\n",
    "+ 자연수 1부터 n까지의 숫자 중에서 3의 배수 또는 5의 배수인 숫자들의 합을 구합니다.\n",
    "+ 결과값은 정수형으로 출력합니다."
   ]
  },
  {
   "cell_type": "code",
   "execution_count": null,
   "metadata": {},
   "outputs": [],
   "source": [
    "print(\"[3의 배수와 5의 배수의 합 구하기]\")\n",
    "n = int(input(\"양의 정수 n을 입력하세요: \"))\n",
    "print(\"[결과]\")\n",
    "sum = 0\n",
    "for i in range(n + 1):\n",
    "    if i % 3 == 0 or i % 5 == 0:\n",
    "        sum += i\n",
    "print(f\"1부터 {n}까지의 자연수 중에서 3의 배수와 5의 배수의 합: {sum}\")"
   ]
  },
  {
   "attachments": {},
   "cell_type": "markdown",
   "metadata": {},
   "source": [
    "# 최댓값과 최솟값 찾기\n",
    "사용자로부터 5개의 정수형 숫자를 입력받아, 입력받은 숫자들 중에서 최댓값과 최솟값을 찾고, 이를 출력하는 프로그램을 작성하세요.\n",
    "+ 입력받은 숫자는 1 이상 100 이하의 자연수입니다.\n",
    "+ 입력받은 숫자 중 중복된 숫자가 있을 수 있습니다."
   ]
  },
  {
   "cell_type": "code",
   "execution_count": null,
   "metadata": {},
   "outputs": [],
   "source": [
    "print(\"[최댓값과 최솟값 찾기]\")\n",
    "nums = [int(input(f\"{i + 1}번째 숫자를 입력하세요: \")) for i in range(5)]\n",
    "print(\"[결과]\")\n",
    "print(f\"입력 받은 숫자들: {nums}\")\n",
    "print(f\"최댓값: {max(nums)}\")\n",
    "print(f\"최솟값: {min(nums)}\")"
   ]
  },
  {
   "attachments": {},
   "cell_type": "markdown",
   "metadata": {},
   "source": [
    "# 숫자의 합이 100보다 작을 때까지 입력 받기\n",
    "사용자로부터 정수형 숫자를 입력받아, 입력받은 숫자들의 합이 100보다 작을 때까지 숫자를 계속 입력받고, 입력받은 숫자들의 합을 출력하는 프로그램을 작성하세요.\n",
    "+ 입력받은 숫자는 1 이상 100 이하의 자연수입니다."
   ]
  },
  {
   "cell_type": "code",
   "execution_count": null,
   "metadata": {},
   "outputs": [],
   "source": [
    "print(\"[숫자의 합이 100보다 작을 때까지 입력 받기]\")\n",
    "sum = 0\n",
    "while sum < 100:\n",
    "    sum += int(input(\"숫자를 입력하세요: \"))\n",
    "print(\"[결과]\")\n",
    "print(f\"입력 받은 숫자들의 합: {sum}\")"
   ]
  },
  {
   "attachments": {},
   "cell_type": "markdown",
   "metadata": {},
   "source": [
    "# 피보나치 수열의 n번째 항을 출력하는 프로그램\n",
    "피보나치 수열은 다음과 같이 정의됩니다:<br>\n",
    "첫 번째 항과 두 번째 항은 각각 1입니다.<br>\n",
    "세 번째 항부터는 바로 앞 두 항의 합입니다.<br>\n",
    "즉, 1, 1, 2, 3, 5, 8, 13, ... 과 같은 수열입니다.<br>\n",
    "예를 들어, 사용자가 7을 입력했을 경우 13을 출력해야 합니다.\n"
   ]
  },
  {
   "cell_type": "code",
   "execution_count": null,
   "metadata": {},
   "outputs": [],
   "source": [
    "print(\"[피보나치 수열]\")\n",
    "n = int(input(\"몇 번째 항을 출력할까요? (1 이상의 정수): \"))\n",
    "if n == 1 or n == 2:\n",
    "    curr = 1\n",
    "elif n == 3:\n",
    "    curr = 2\n",
    "else:\n",
    "    pprev = 1\n",
    "    prev = 1\n",
    "    curr = 2\n",
    "    for i in range(3, n + 1):\n",
    "        curr = pprev + prev\n",
    "        pprev, prev = prev, curr\n",
    "print(f\"피보나치 수열의 {n}번째 항은 {curr}입니다\")"
   ]
  }
 ],
 "metadata": {
  "kernelspec": {
   "display_name": "Python 3",
   "language": "python",
   "name": "python3"
  },
  "language_info": {
   "codemirror_mode": {
    "name": "ipython",
    "version": 3
   },
   "file_extension": ".py",
   "mimetype": "text/x-python",
   "name": "python",
   "nbconvert_exporter": "python",
   "pygments_lexer": "ipython3",
   "version": "3.10.9"
  },
  "orig_nbformat": 4
 },
 "nbformat": 4,
 "nbformat_minor": 2
}
