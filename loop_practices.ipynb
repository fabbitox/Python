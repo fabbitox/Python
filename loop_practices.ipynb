{
 "cells": [
  {
   "attachments": {},
   "cell_type": "markdown",
   "metadata": {},
   "source": [
    "# 계산기 프로그램\n",
    "사용자로부터 두 개의 정수와 연산자를 입력받아, 입력된 연산자에 따라 두 수의 사칙연산 결과를 출력하는 계산기 프로그램을 작성하세요.<br>\n",
    "프로그램은 사용자가 \"exit\"을 입력할 때까지 계속해서 작동합니다.\n",
    "+ 입력받은 숫자는 어떠한 값이든 상관없습니다.\n",
    "+ 입력받은 연산자는 +, -, *, / 중 하나입니다.\n",
    "+ 나눗셈 연산 결과는 실수형으로 출력하세요.\n",
    "+ 분모가 0일 경우, \"0으로 나눌 수 없습니다.\"를 출력하세요.\n",
    "+ 사용자가 \"exit\"을 입력할 경우, 프로그램을 종료하세요."
   ]
  },
  {
   "cell_type": "code",
   "execution_count": null,
   "metadata": {},
   "outputs": [],
   "source": [
    "print(\"[간단한 계산기]\")\n",
    "while True:\n",
    "    input1 = input(\"첫 번째 수를 입력하세요('exit' 입력 시 종료): \")\n",
    "    if input1 == 'exit':\n",
    "        break\n",
    "    if input1.isdigit():\n",
    "        num1 = int(input1)\n",
    "        input2 = input(\"두 번째 수를 입력하세요: \")\n",
    "        if input2.isdigit():\n",
    "            num2 = int(input2)\n",
    "            op = input(\"연산자를 입력하세요(+, -, *, /): \")\n",
    "            if op == '/':\n",
    "                if num2 == 0:\n",
    "                    print(\"0으로 나눌 수 없습니다\")\n",
    "                else:\n",
    "                    print(f\"{num1} / {num2} = {num1 / num2:.2f}\")\n",
    "            elif op == '+':\n",
    "                print(f\"{num1} {op} {num2} = {num1 + num2}\")\n",
    "            elif op == '-':\n",
    "                print(f\"{num1} {op} {num2} = {num1 - num2}\")\n",
    "            elif op == '*':\n",
    "                print(f\"{num1} {op} {num2} = {num1 * num2}\")\n",
    "            else:\n",
    "                print(\"올바른 연산자를 입력하세요\")\n",
    "        else:\n",
    "           print(\"올바른 값을 입력하세요\")\n",
    "           continue \n",
    "    else:\n",
    "        print(\"올바른 값을 입력하세요\")\n",
    "        continue"
   ]
  },
  {
   "attachments": {},
   "cell_type": "markdown",
   "metadata": {},
   "source": [
    "# 두 수의 최대공약수 구하기\n",
    "+ 큰 수를 작은 수로 나눈 나머지를 구한다\n",
    "+ 큰 수를 작은 수로 바꾸고 작은 수는 나머지로 바꾼다\n",
    "+ 작은 수가 0이 될 대까지 반복한다\n",
    "+ 마지막 큰 수가 최대공약수!"
   ]
  },
  {
   "cell_type": "code",
   "execution_count": null,
   "metadata": {},
   "outputs": [],
   "source": [
    "num1 = int(input(\"첫 번째 수를 입력하세요: \"))\n",
    "num2 = int(input(\"두 번째 수를 입력하세요: \"))\n",
    "if num1 < num2: # num1이 더 크도록\n",
    "    num1, num2 = num2, num1\n",
    "while num2 != 0:\n",
    "    rem = num1 % num2\n",
    "    num1 = num2\n",
    "    num2 = rem\n",
    "print(f\"최대공약수는 {num1}입니다\")"
   ]
  },
  {
   "attachments": {},
   "cell_type": "markdown",
   "metadata": {},
   "source": [
    "입력 받은 정수의 약수를 모두 출력하는 프로그램"
   ]
  },
  {
   "cell_type": "code",
   "execution_count": null,
   "metadata": {},
   "outputs": [],
   "source": [
    "n = int(input(\"양의 정수를 입력하세요: \"))\n",
    "for i in range(1, n):\n",
    "    if n % i == 0:\n",
    "        print(i, end=\", \")\n",
    "print(n)"
   ]
  },
  {
   "attachments": {},
   "cell_type": "markdown",
   "metadata": {},
   "source": [
    "반복문과 조건문을 사용해 점수를 계속 입력 받아 90점 이상이면 A, 80점 이상이면 B, 60점 이상이면 C, 40점 이상이면 D, 39점 이하이면 F라고 출력하는 프로그램을 작성하라.<br>\n",
    "입력 받는 점수가 음수일 때 종료한다.\n"
   ]
  },
  {
   "cell_type": "code",
   "execution_count": null,
   "metadata": {},
   "outputs": [],
   "source": [
    "score = int(input(\"점수를 입력하세요: \"))\n",
    "while score >= 0:\n",
    "    if score >= 90:\n",
    "        print(\"A\")\n",
    "    elif score >= 80:\n",
    "        print(\"B\")\n",
    "    elif score >= 60:\n",
    "        print(\"C\")\n",
    "    elif score >= 40:\n",
    "        print(\"D\")\n",
    "    else:\n",
    "        print(\"F\")\n",
    "    score = int(input(\"점수를 입력하세요: \"))"
   ]
  },
  {
   "attachments": {},
   "cell_type": "markdown",
   "metadata": {},
   "source": [
    "임의의 자연수 n이 입력되면 2부터 n까지의 모든 소수를 출력하는 프로그램"
   ]
  },
  {
   "cell_type": "code",
   "execution_count": null,
   "metadata": {},
   "outputs": [],
   "source": [
    "n = int(input(\"2 이상의 수를 입력하세요: \"))\n",
    "for i in range(2, n + 1):\n",
    "    prime = True\n",
    "    for j in range(2, i):\n",
    "        if i % j == 0:\n",
    "            prime = False\n",
    "            break\n",
    "    if prime:\n",
    "        print(i, end=' ')"
   ]
  }
 ],
 "metadata": {
  "kernelspec": {
   "display_name": "Python 3",
   "language": "python",
   "name": "python3"
  },
  "language_info": {
   "codemirror_mode": {
    "name": "ipython",
    "version": 3
   },
   "file_extension": ".py",
   "mimetype": "text/x-python",
   "name": "python",
   "nbconvert_exporter": "python",
   "pygments_lexer": "ipython3",
   "version": "3.10.9"
  },
  "orig_nbformat": 4
 },
 "nbformat": 4,
 "nbformat_minor": 2
}
