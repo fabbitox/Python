{
 "cells": [
  {
   "attachments": {},
   "cell_type": "markdown",
   "metadata": {},
   "source": [
    "```python\n",
    "data = {\n",
    "    \"Sun\": 0, \"Mon\": 1, \"Tue\": 2, \"Wed\": 3,\n",
    "    \"Thu\": 4, \"Fri\": 5, \"Sat\": 6\n",
    "}\n",
    "```\n",
    "이 주어질 때 try-except문을 이용하여 다음과 같이 동작하는 프로그램을 작성하라.<br>\n",
    "사용자로부터 문자열을 입력 받는다.<br>\n",
    "문자열이 data의 key와 같으면 value를 출력하고 다시 문자열을 입력 받는다.<br>\n",
    "문자열에 해당하는 key가 없으면 \"항목이 없습니다\"라는 메시지를 출력하고 종료한다."
   ]
  },
  {
   "cell_type": "code",
   "execution_count": null,
   "metadata": {},
   "outputs": [],
   "source": [
    "data = {\n",
    "    \"Sun\": 0, \"Mon\": 1, \"Tue\": 2, \"Wed\": 3,\n",
    "    \"Thu\": 4, \"Fri\": 5, \"Sat\": 6\n",
    "}\n",
    "try:\n",
    "    while True:\n",
    "        inputstr = input(\"입력하세요: \")\n",
    "        print(data[inputstr])\n",
    "except KeyError:\n",
    "    print(\"항목이 없습니다\")"
   ]
  }
 ],
 "metadata": {
  "kernelspec": {
   "display_name": "Python 3",
   "language": "python",
   "name": "python3"
  },
  "language_info": {
   "codemirror_mode": {
    "name": "ipython",
    "version": 3
   },
   "file_extension": ".py",
   "mimetype": "text/x-python",
   "name": "python",
   "nbconvert_exporter": "python",
   "pygments_lexer": "ipython3",
   "version": "3.10.9"
  },
  "orig_nbformat": 4
 },
 "nbformat": 4,
 "nbformat_minor": 2
}
