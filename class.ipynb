{
 "cells": [
  {
   "attachments": {},
   "cell_type": "markdown",
   "metadata": {},
   "source": [
    "# Deposit 클래스\n",
    "* 이 클래스는 세 개의 인스턴스 변수 initial과 interest, n을 갖는다.\n",
    "    * initial은 원금을 의미하고 interest는 년 이자율을 나타낸다.\n",
    "    * 초기화 함수에서 세 개의 인스턴스 변수를 전달 받은 값으로 설정해야 한다.\n",
    "* 클래스 메소드 profit()은 n년 후 원리금을 반환한다.\n",
    "    * n년 후 원리금은 initial * (1 + interest) ** n이다.\n",
    "\n",
    "Deposit 클래스를 이용하여 100만원을 이율 3.5%로 7년간 저축했을 때 원리금을 구하는 프로그램을 작성하라.<br>\n",
    "단 원리금은 정수로 표시되어야 한다.\n"
   ]
  },
  {
   "cell_type": "code",
   "execution_count": null,
   "metadata": {},
   "outputs": [],
   "source": [
    "class Deposit:\n",
    "    def __init__(self, initial, interest, n):\n",
    "        self.initial = initial\n",
    "        self.interest = interest\n",
    "        self.n = n\n",
    "    \n",
    "    def profit(self):\n",
    "        return int(self.initial * (1 + self.interest) ** self.n)\n",
    "\n",
    "deposit = Deposit(1000000, 0.035, 7)\n",
    "print(deposit.profit())"
   ]
  },
  {
   "attachments": {},
   "cell_type": "markdown",
   "metadata": {},
   "source": [
    "다음 Person 클래스를 상속 받는 Employee 클래스를 정의하라.\n",
    "```python\n",
    "class Person:\n",
    "    def __init__(self, name, age): \n",
    "        self.name = name \n",
    "        self.age = age \n",
    "    \n",
    "    def getName(self): \n",
    "        print(self.name) \n",
    "    \n",
    "    def getAge(self): \n",
    "        print(self.age)\n",
    "```\n",
    "* Employee 클래스에 employeeID 인스턴스 변수를 추가하고 getID() 메소드를 정의하라.\n",
    "    * getID() 메소드는 employeeID를 반환하는 메소드이다.\n",
    "* Employee 클래스를 이용하여 Employee(\"동양\", 65, 2019)로 생성된 객체의 이름, 나이, ID를 출력하라.\n"
   ]
  },
  {
   "cell_type": "code",
   "execution_count": null,
   "metadata": {},
   "outputs": [],
   "source": [
    "class Person:\n",
    "    def __init__(self, name, age):\n",
    "        self.name = name\n",
    "        self.age = age\n",
    "    \n",
    "    def getName(self):\n",
    "        print(self.name)\n",
    "    \n",
    "    def getAge(self):\n",
    "        print(self.age)\n",
    "\n",
    "class Employee(Person):\n",
    "    def __init__(self, name, age, employeeID):\n",
    "        super().__init__(name, age)\n",
    "        self.employeeID = employeeID\n",
    "    \n",
    "    def getID(self):\n",
    "        print(self.employeeID)\n",
    "\n",
    "employee = Employee(\"동양\", 65, 2019)\n",
    "employee.getName()\n",
    "employee.getAge()\n",
    "employee.getID()"
   ]
  },
  {
   "attachments": {},
   "cell_type": "markdown",
   "metadata": {},
   "source": [
    "## 학생 정보를 관리하는 프로그램을 만드세요."
   ]
  },
  {
   "attachments": {},
   "cell_type": "markdown",
   "metadata": {},
   "source": [
    "### 학생(Student) 클래스\n",
    "+ 인스턴스 변수\n",
    "    - 이름(name)\n",
    "    - 학번(student_id)\n",
    "    - 학년(year)\n",
    "    - 전공(major)\n",
    "    - 평균 성적(avg_score)\n",
    "+ 메서드\n",
    "    - get_info() - 학생의 정보를 문자열로 반환\n",
    "\n",
    "### 학생들을 관리하는 클래스(StudentManager)\n",
    "+ 인스턴스 변수\n",
    "    - 학생들(student_list)\n",
    "+ 메서드\n",
    "    - add_student(student): 학생을 리스트에 추가하는 메서드\n",
    "    - remove_student(student_id): 학번을 이용해 학생을 리스트에서 제거하는 메서드\n",
    "    - find_student(student_id): 학번을 이용해 학생을 찾는 메서드\n",
    "    - show_all_students(): 모든 학생의 정보를 출력하는 메서드\n"
   ]
  },
  {
   "cell_type": "code",
   "execution_count": null,
   "metadata": {},
   "outputs": [],
   "source": [
    "class Student:\n",
    "    def __init__(self, name, student_id, year, major, avg_score):\n",
    "        self.name = name\n",
    "        self.student_id = student_id\n",
    "        self.year = year\n",
    "        self.major = major\n",
    "        self.avg_score = avg_score\n",
    "    \n",
    "    def get_info(self):\n",
    "        return f\"이름: {self.name}, 학번: {self.student_id}, 학년: {self.year}, 전공: {self.major}, 평점: {self.avg_score}\"\n",
    "\n",
    "class StudentManager:\n",
    "    def __init__(self):\n",
    "        self.student_list = []\n",
    "    \n",
    "    def add_student(self, student):\n",
    "        print(student.get_info())\n",
    "        self.student_list.append(student)\n",
    "    \n",
    "    def remove_student(self, student_id):\n",
    "        for student in self.student_list:\n",
    "            if (student.student_id == student_id):\n",
    "                print(student.get_info())\n",
    "                self.student_list.remove(student)\n",
    "                return\n",
    "    \n",
    "    def find_student(self, student_id):\n",
    "        for student in self.student_list:\n",
    "            if student.student_id == student_id:\n",
    "                print(student.get_info())\n",
    "    \n",
    "    def show_all_students(self):\n",
    "        for student in self.student_list:\n",
    "            print(student.get_info())"
   ]
  },
  {
   "attachments": {},
   "cell_type": "markdown",
   "metadata": {},
   "source": [
    "### 위 클래스들을 이용하여 다음과 같은 프로그램을 작성하세요.\n",
    "- 학생 관리자(StudentManager)를 생성합니다.\n",
    "- 학생(Student)을 생성합니다.\n",
    "    - 학생의 인스턴스 변수는 이름, 학번, 학년, 전공, 평균 성적을 포함합니다.\n",
    "- 학생 관리자에 학생을 추가합니다.\n",
    "- 학생 관리자에서 학생을 삭제합니다.\n",
    "- 학생 관리자에서 학생을 찾습니다.\n",
    "- 학생 관리자에서 모든 학생의 정보를 출력합니다.\n"
   ]
  },
  {
   "cell_type": "code",
   "execution_count": null,
   "metadata": {},
   "outputs": [],
   "source": [
    "from random import randint, random\n",
    "\n",
    "def randstr():\n",
    "    strlen = randint(3, 7)\n",
    "    retstr = \"\"\n",
    "    for _ in range(strlen):\n",
    "        retstr += chr(ord('a') + randint(0, 25))\n",
    "    return retstr\n",
    "\n",
    "stuman = StudentManager()\n",
    "students = [Student(randstr(), randint(1000, 9999), randint(1, 4), randstr(), round(random() * 4.5, 2)) for i in range(7)]\n",
    "print(\"add\")\n",
    "for student in students:\n",
    "    stuman.add_student(student)\n",
    "print()\n",
    "print(\"remove\")\n",
    "stuman.remove_student(students[4].student_id)\n",
    "print(\"find\")\n",
    "stuman.find_student(students[2].student_id)\n",
    "print()\n",
    "print(\"show\")\n",
    "stuman.show_all_students()\n"
   ]
  }
 ],
 "metadata": {
  "kernelspec": {
   "display_name": "Python 3",
   "language": "python",
   "name": "python3"
  },
  "language_info": {
   "codemirror_mode": {
    "name": "ipython",
    "version": 3
   },
   "file_extension": ".py",
   "mimetype": "text/x-python",
   "name": "python",
   "nbconvert_exporter": "python",
   "pygments_lexer": "ipython3",
   "version": "3.10.9"
  },
  "orig_nbformat": 4
 },
 "nbformat": 4,
 "nbformat_minor": 2
}
