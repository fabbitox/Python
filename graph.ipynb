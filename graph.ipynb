{
 "cells": [
  {
   "cell_type": "code",
   "execution_count": null,
   "metadata": {},
   "outputs": [],
   "source": [
    "import numpy as np\n",
    "import matplotlib.pyplot as plt"
   ]
  },
  {
   "cell_type": "code",
   "execution_count": null,
   "metadata": {},
   "outputs": [],
   "source": [
    "months = np.arange(1, 13)  # 월별 데이터\n",
    "sales = np.array([120, 145, 98, 156, 104, 176, 155, 140, 135, 120, 148, 170])  # 월별 판매량\n",
    "plt.plot(months, sales, marker = 'o')\n",
    "plt.show()"
   ]
  },
  {
   "cell_type": "code",
   "execution_count": null,
   "metadata": {},
   "outputs": [],
   "source": [
    "months = np.arange(1, 13)  # 월별 데이터\n",
    "product1_sales = np.array([120, 145, 98, 156, 104, 176, 155, 140, 135, 120, 148, 170])  # 물건 1 월별 판매량\n",
    "product2_sales = np.array([90, 110, 80, 120, 105, 140, 130, 125, 115, 100, 130, 150])  # 물건 2 월별 판매량\n",
    "plt.plot(months, product1_sales, marker = 'o')\n",
    "plt.plot(months, product2_sales, marker = 'o')\n",
    "plt.show()"
   ]
  },
  {
   "cell_type": "code",
   "execution_count": null,
   "metadata": {},
   "outputs": [],
   "source": [
    "years = np.arange(2010, 2021)  # 연도 데이터\n",
    "gdp_a = np.array([100, 120, 150, 160, 180, 200, 220, 240, 260, 280, 300])  # A 나라의 연도별 GDP\n",
    "gdp_b = np.array([80, 90, 100, 110, 120, 130, 140, 150, 160, 170, 180])  # B 나라의 연도별 GDP\n",
    "gdp_c = np.array([200, 220, 240, 250, 260, 270, 280, 290, 300, 310, 320])  # C 나라의 연도별 GDP\n",
    "plt.figure().add_axes([0,0,1,1])\n",
    "plt.bar(years - 0.25, gdp_a, width = 0.25)\n",
    "plt.bar(years, gdp_b, width = 0.25)\n",
    "plt.bar(years + 0.25, gdp_c, width = 0.25)\n",
    "plt.show()"
   ]
  },
  {
   "cell_type": "code",
   "execution_count": null,
   "metadata": {},
   "outputs": [],
   "source": [
    "years = np.arange(2010, 2021)\n",
    "gdp = np.array([100, 120, 150, 160, 180, 200, 220, 240, 260, 280, 300])\n",
    "sales = np.array([50, 70, 30, 45, 60, 80, 70, 90, 110, 100, 120])\n",
    "prices = np.array([10, 12, 15, 16, 18, 20, 22, 24, 26, 28, 30])\n",
    "plt.figure()\n",
    "ax1 = plt.subplot2grid((3, 3), (0, 0), 1, 3)\n",
    "ax1.plot(years, gdp, marker = 'o')\n",
    "ax2 = plt.subplot2grid((3, 3), (1, 0), 1, 2)\n",
    "ax2.bar(years, sales)\n",
    "ax3 = plt.subplot2grid((3, 3), (2, 0), 1, 2)\n",
    "ax3.plot(years, sales, marker = 'o')\n",
    "ax4 = plt.subplot2grid((3, 3), (1, 2), 2, 1)\n",
    "ax4.scatter(years, prices)\n",
    "plt.show()"
   ]
  }
 ],
 "metadata": {
  "kernelspec": {
   "display_name": "Python 3",
   "language": "python",
   "name": "python3"
  },
  "language_info": {
   "codemirror_mode": {
    "name": "ipython",
    "version": 3
   },
   "file_extension": ".py",
   "mimetype": "text/x-python",
   "name": "python",
   "nbconvert_exporter": "python",
   "pygments_lexer": "ipython3",
   "version": "3.10.9"
  },
  "orig_nbformat": 4
 },
 "nbformat": 4,
 "nbformat_minor": 2
}
